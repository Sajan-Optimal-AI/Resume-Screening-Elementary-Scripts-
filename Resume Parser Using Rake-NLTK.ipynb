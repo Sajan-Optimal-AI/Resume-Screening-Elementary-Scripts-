{
  "nbformat": 4,
  "nbformat_minor": 0,
  "metadata": {
    "colab": {
      "name": "Untitled8.ipynb",
      "provenance": []
    },
    "kernelspec": {
      "name": "python3",
      "display_name": "Python 3"
    },
    "language_info": {
      "name": "python"
    }
  },
  "cells": [
    {
      "cell_type": "code",
      "metadata": {
        "colab": {
          "base_uri": "https://localhost:8080/"
        },
        "id": "-52iPojk6XoQ",
        "outputId": "800049b5-3b8b-4d37-d616-ef220579481e"
      },
      "source": [
        "!pip install PyMuPDF"
      ],
      "execution_count": 28,
      "outputs": [
        {
          "output_type": "stream",
          "text": [
            "Collecting PyMuPDF\n",
            "  Downloading PyMuPDF-1.18.17-cp37-cp37m-manylinux_2_12_x86_64.manylinux2010_x86_64.whl (6.4 MB)\n",
            "\u001b[K     |████████████████████████████████| 6.4 MB 5.3 MB/s \n",
            "\u001b[?25hInstalling collected packages: PyMuPDF\n",
            "Successfully installed PyMuPDF-1.18.17\n"
          ],
          "name": "stdout"
        }
      ]
    },
    {
      "cell_type": "code",
      "metadata": {
        "colab": {
          "base_uri": "https://localhost:8080/"
        },
        "id": "DRjJFzte3Rny",
        "outputId": "e76c7fa0-a02f-4308-f524-a39d2541834c"
      },
      "source": [
        "!pip install rake-nltk"
      ],
      "execution_count": null,
      "outputs": [
        {
          "output_type": "stream",
          "text": [
            "Collecting rake-nltk\n",
            "  Downloading rake_nltk-1.0.4.tar.gz (7.6 kB)\n",
            "Requirement already satisfied: nltk in /usr/local/lib/python3.7/dist-packages (from rake-nltk) (3.2.5)\n",
            "Requirement already satisfied: six in /usr/local/lib/python3.7/dist-packages (from nltk->rake-nltk) (1.15.0)\n",
            "Building wheels for collected packages: rake-nltk\n",
            "  Building wheel for rake-nltk (setup.py) ... \u001b[?25l\u001b[?25hdone\n",
            "  Created wheel for rake-nltk: filename=rake_nltk-1.0.4-py2.py3-none-any.whl size=7831 sha256=20888f9c8ac2c0050206fb2cfaa3075e40200c969068964a6bad61d8823caf37\n",
            "  Stored in directory: /root/.cache/pip/wheels/7c/d9/8a/b8a9244fa89a07f288f9fe006aafc79d93fceb58496c29b606\n",
            "Successfully built rake-nltk\n",
            "Installing collected packages: rake-nltk\n",
            "Successfully installed rake-nltk-1.0.4\n"
          ],
          "name": "stdout"
        }
      ]
    },
    {
      "cell_type": "code",
      "metadata": {
        "colab": {
          "base_uri": "https://localhost:8080/"
        },
        "id": "6c94IWei6eZz",
        "outputId": "58276bd6-acbd-46e0-fd81-bd614d43fb3c"
      },
      "source": [
        "import sys, fitz\n",
        "fname = '/content/drive/MyDrive/Resumes/AnkitSharma[8_0].pdf'\n",
        "doc = fitz.open(fname)\n",
        "text = \"\"\n",
        "for page in doc:\n",
        "    text = text + str(page.getText())\n",
        "\n",
        "tx = \" \".join(text.split('\\n'))\n",
        "print(tx)"
      ],
      "execution_count": 37,
      "outputs": [
        {
          "output_type": "stream",
          "text": [
            "Ankit Sharma  Citizenship: Indian ▪ Date of birth: 19-April-1989  EWS-111, KDA COLONY, DAHELI SUJANPUR, SHYAM NAGAR, POST COD, KANPUR - 208013        Contact  Tel :  +91-8090791559, +91-8707280159  Email :   ankits428@gmail.com        Summary  IT Professional with 8+ years of experience on web designing and development. Excelled my work and  knowledge in various Front-End framework and PHP Framework. Ability to work well in both a team  environment and individual environment. Experience for Handling Multiple projects at a same time.  Currently working as a Full-stack developer and doing project in Angular, ReactJS and Ionic  Framework 3&4.  Work Experience  Virala India Pvt. Ltd.                                                                                          (July 2014 to till date)   Role - Full-Stack Developer/Hybrid Mobile Application Developer     Description-     Building user interface, data visualizations and designed overall user experience    Worked on web fundamentals like HTML, JavaScript, and CSS with Front-end (CSS)frameworks  like Bootstrap    Worked on Hybrid Mobile Application Framework Ionic 3.    JavaScript frameworks like React JS, Angular4+ and Libraries like jQuery    API design and development with PHP, CakePHP 3.x and NodeJs with MySQL & Mongo DB    Server-side languages PHP with Database technologies like MySQL.    Web server technologies Apache.    Frameworks related to their server-side language: CakePHP 2.x & 3.x    Full front to back development.    Deployment of project with server setup in  on Digital Ocean and AWS (EC2 & Lightsail  Instance)    Worked on cloud based storage AWS S3 and Backblaze.     Navneeti IT Solutions                                                                                 (July 2012 to June 2014)   Role–Web Designer and Developer     Description-     Worked on web fundamentals like HTML, JavaScript, and CSS with Front-end (CSS) framework  Bootstrap    Server-side languages PHP with Database technologies like MySQL.    Web server technologies Apache.      My FeaturedProjects    https://www.sonacomstar.com  Environment: CakePHP, Ajax, jQuery, Bootstrap,  HTML5, CSS3  An Auto components manufacturer company website .  Role: Full-stack Developer  https://www.chemistsmart.com  Environment: ReactJS, CakePHP, Ajax, jQuery,  Bootstrap, HTML5, CSS3  An Ecommerce web application for online medicine  purchase.  Role: Full-stack Developer  Payment Gateway: PayTM  https://www.139.59.6.97/kalaahut.com  Environment: CakePHP, Ajax, jQuery, Bootstrap,  HTML5, CSS3  An Ecommerce web application for online handicraft  Shopping  Role: Full-stack Developer  Payment Gateway: PayUMoney, PayTM Wallet  https://virala.org  Environment:WordPress, Ajax, jQuery, HTML5,  CSS3  A WordPress website for Digital Marketing Service  Role: Full-stack Developer    https://citybytes.com  Environment: WordPress, Ajax, jQuery, HTML5,  CSS3  A Blog about some major cities.  Role: Full-stack Developer    https://offroadtrails.in/  Environment: WordPress, Ajax, jQuery, HTML5,  CSS3, Bootstrap  A WordPress website of wildlife adventures and tours  Role: Full-stack Developer    https://play.google.com/store/apps/details?id=c om.citybytesapp.virala&hl=en   Environment:Ionic 3, HTML5, CSS3, Angular with  Angular & NodeJs Admin Panel  An App aims to be E-Magazine for the major city which  has meme, images and YouTube embedded video and  with Facebook Native ads  Role: Full-stack Developer    https://play.google.com/store/apps/details?id=c om.bhojpurihindivideos.virala   Environment: Ionic 3, HTML5, CSS3, Angular with  Angular & NodeJs Admin Panel  An App aims to be play YouTube videos with google Ads  Role: Full-stack Developer        Other Projects    Billing System for Ecommerce Orders  Environment: CodeIgnitor, JavaScript, Ajax,  JQuery, Bootstrap, HTML5, CSS3    This project aims to process billing for E-Commerce  customer’s orders and maintain product and their  inventory.  Rest API for small Bakery App  Environment: CakePHP3, MySQL    This App aims to an Individual Bakery for his sales record.    Rest API for Improve City with Admin Panel  Environment: CakePHP3, MySQL    This App aims to improve city by uploading issues on App  about sewer problem, road problem and traffic problem.    Rest API for E-Magazine App with Admin  panel  Environment: NodeJs, Express, MongoDB    This App aims to be E-Magazine which contains meme,  news, videos.    Rest API for Election News Video App with  Admin panel  Environment: NodeJs, Express, MongoDB,  Swagger    This App aims to be show 2019 Election related videos  and news           Ongoing Project  Project Name:  Aabsynthe Design (An Ecommerce web application for online purchase of custom Jewellery and  Watches.)    Role: Full-stack Developer    Team Size: 1  Technologies: React JS, CakePHP 3.8 with MySQL Database          Key Skills  Web Technologies  PHP, AJAX, JSON,  JQUERY, HTML5, CSS3  Databases  MySQL5, MongoDB  Operating System  Open Solaris, Linux  (Ubuntu)    Frameworks/CMS   Ionic 3, CakePHP 2- 3,WordPress  Version Control System  GIT  Tools  NetBeans  Cloud Based Services  AWS, Digital Ocean,  Backblaze  Editor  Sublime, Visual Studio,  Notepad++  JavaScript Framework  React JS, Angular  (4,5,7), Node JS        Education  2014 to 2017  Masters in Computer Application  SHIATS University  2008 to 2011    Bachelor in Science   CSJM University  2006    Intermediate (UP Board)   Pt. RPM Inter College, Kanpur  Functional Skill Set  Problem solving capability peered with good communication skills.     Ability to learn processes and systems quickly.  Able to work in a fast-paced challenging environment.  Can work independently as well as under the direction of senior IT architects.      Declaration  I hereby declare that the above-mentioned information is correct up to my knowledge and I bear  the responsibility for the correctness of the above-mentioned particulars.  Date: …………….  Place:  Lucknow                                                                                                                        Ankit Sharma      \n"
          ],
          "name": "stdout"
        }
      ]
    },
    {
      "cell_type": "code",
      "metadata": {
        "id": "05HTu_zU3GOM"
      },
      "source": [
        "from rake_nltk import Rake"
      ],
      "execution_count": 38,
      "outputs": []
    },
    {
      "cell_type": "code",
      "metadata": {
        "id": "-G6w8qFD3Z1S"
      },
      "source": [
        "rake_nltk_var = Rake()"
      ],
      "execution_count": 39,
      "outputs": []
    },
    {
      "cell_type": "code",
      "metadata": {
        "id": "OgKOLs0I3bPr"
      },
      "source": [
        "text = tx"
      ],
      "execution_count": 40,
      "outputs": []
    },
    {
      "cell_type": "code",
      "metadata": {
        "id": "9plotkDi3i-D"
      },
      "source": [
        "rake_nltk_var.extract_keywords_from_text(text)"
      ],
      "execution_count": 41,
      "outputs": []
    },
    {
      "cell_type": "code",
      "metadata": {
        "id": "UqXoqZun3sTz"
      },
      "source": [
        "keyword_extracted = rake_nltk_var.get_ranked_phrases()"
      ],
      "execution_count": 42,
      "outputs": []
    },
    {
      "cell_type": "code",
      "metadata": {
        "colab": {
          "base_uri": "https://localhost:8080/"
        },
        "id": "alVRnBoL3voD",
        "outputId": "ef2276ed-43ba-42cc-9553-995685c2090a"
      },
      "source": [
        "print(keyword_extracted)"
      ],
      "execution_count": 43,
      "outputs": [
        {
          "output_type": "stream",
          "text": [
            "['wordpress version control system git tools netbeans cloud based services aws', 'kanpur functional skill set problem solving capability peered', 'mysql database key skills web technologies php', '7 ), node js education 2014', 'cloud based storage aws s3', 'notepad ++ javascript framework react js', 'designed overall user experience \\uf0b7 worked', '\\uf0b7 javascript frameworks like react js', 'libraries like jquery \\uf0b7 api design', 'hybrid mobile application framework ionic 3', 'science csjm university 2006 intermediate', 'computer application shiats university 2008', 'mongodb operating system open solaris', 'auto components manufacturer company website', 'hybrid mobile application developer description', 'stack developer https :// offroadtrails', 'stack developer https :// citybytes', 'paytm wallet https :// virala', 'stack developer https :// www', 'stack developer https :// play', 'show 2019 election related videos', '\\uf0b7 web server technologies apache', 'frameworks like bootstrap \\uf0b7 worked', 'news ongoing project project name', 'work experience virala india pvt', 'database technologies like mysql', 'paytm https :// www', 'featuredprojects https :// www', '\\uf0b7 building user interface', 'web fundamentals like html', 'stack developer payment gateway', 'mongo db \\uf0b7 server', 'stack developer team size', 'role – web designer', 'facebook native ads role', 'framework bootstrap \\uf0b7 server', 'online handicraft shopping role', 'digital marketing service role', 'election news video app', '\\uf0b7 frameworks related', 'small bakery app environment', 'ecommerce web application', 'projects billing system', 'x \\uf0b7 full front', 'good communication skills', 'ionic framework 3', 'play youtube videos', 'react js', 'youtube embedded video', 'cms ionic 3', 'rpm inter college', 'lucknow ankit sharma', 'handling multiple projects', 'commerce customer ’', 'ankit sharma citizenship', '208013 contact tel', 'side languages php', 'google ads role', '\\uf0b7 worked', 'online medicine purchase', 'stack developer', 'paced challenging environment', 'admin panel environment', 'wordpress website', 'nodejs admin panel', 'indian ▪ date', 'css3 databases mysql5', 'backblaze editor sublime', 'developer description', 'ecommerce orders environment', 'php framework', '1 technologies', 'ionic 3', '\\uf0b7 deployment', 'web designing', 'rest api', 'aabsynthe design', 'aws', 'virala environment', 'traffic problem', 'sewer problem', 'road problem', 'online purchase', 'team environment', 'june 2014', 'july 2014', 'end framework', 'project aims', 'server setup', 'tours role', 'individual bakery', 'digital ocean', 'wordpress', 'app aims', 'work independently', 'side language', 'process billing', 'kanpur', 'cakephp 3', 'org environment', 'individual environment', 'en environment', 'various front', 'javascript', 'magazine app', 'com environment', 'work well', 'wildlife adventures', 'watches .)', 'visual studio', 'uploading issues', 'till date', 'systems quickly', 'shyam nagar', 'sales record', 'post cod', 'mysql', 'mentioned particulars', 'mentioned information', 'major city', 'major cities', 'maintain product', 'lightsail instance', 'learn processes', 'kda colony', 'july 2012', 'improve city', 'hereby declare', 'experience', 'data visualizations', 'daheli sujanpur', 'custom jewellery', 'currently working', 'c om', '8707280159 email', '2017 masters', '2011 bachelor', '1989 ews', 'frameworks', 'com summary', 'cakephp 2', 'jquery', 'contains meme', 'back development', 'news', 'bootstrap', 'virala', 'project', 'php', 'server', 'role', 'videos', 'mongodb', '3', 'app', 'x', 'work', 'full', 'environment', 'front', 'orders', 'nodejs', 'google', 'date', 'css3', 'backblaze', 'com', 'cakephp', 'well', 'meme', 'magazine', 'end', 'development', '…………….', 'years', 'ubuntu', 'time', 'swagger', 'store', 'sonacomstar', 'solutions', 'senior', 'responsibility', 'reactjs', 'pt', 'professional', 'place', 'payumoney', 'navneeti', 'ltd', 'linux', 'knowledge', 'kalaahut', 'json', 'inventory', 'images', 'id', 'html5', 'hl', 'gmail', 'fast', 'express', 'excelled', 'ec2', 'e', 'direction', 'details', 'declaration', 'css', 'correctness', 'correct', 'codeignitor', 'citybytesapp', 'chemistsmart', 'cakephp3', 'board', 'blog', 'birth', 'bhojpurihindivideos', 'bear', 'architects', 'april', 'apps', 'ankits428', 'angular4', 'angular', 'ajax', 'able', 'ability', '97', '91', '8090791559', '8', '6', '59', '5', '4', '19', '139', '111']\n"
          ],
          "name": "stdout"
        }
      ]
    },
    {
      "cell_type": "code",
      "metadata": {
        "id": "swlMYbKAPU6C"
      },
      "source": [
        "def clean_text(text):\n",
        "\n",
        "    text = re.sub(r\"  \",\"\",text)\n",
        "    text = re.sub(r\"[-()\\\"#/@;:<>{}`+=~|.!?,]\", \"\", text)\n",
        "    text = re.sub(r\"[^0-9a-zA-Z:,]+\", \" \", text)\n",
        "    text = re.sub(r\"[0-9]\", \"\", text)\n",
        "    \n",
        "    return text\n",
        "\n",
        "clean_phrase= []\n",
        "\n",
        "for q in keyword_extracted:\n",
        "    clean_phrase.append(clean_text(q))\n",
        "  "
      ],
      "execution_count": 54,
      "outputs": []
    },
    {
      "cell_type": "code",
      "metadata": {
        "colab": {
          "base_uri": "https://localhost:8080/"
        },
        "id": "haTdoQUjWtar",
        "outputId": "11c2d20e-7087-4294-de41-c6bbda133f09"
      },
      "source": [
        "clean_phrase"
      ],
      "execution_count": 56,
      "outputs": [
        {
          "output_type": "execute_result",
          "data": {
            "text/plain": [
              "['wordpress version control system git tools netbeans cloud based services aws',\n",
              " 'kanpur functional skill set problem solving capability peered',\n",
              " 'mysql database key skills web technologies php',\n",
              " ' node js education ',\n",
              " 'cloud based storage aws s',\n",
              " 'notepad javascript framework react js',\n",
              " 'designed overall user experience worked',\n",
              " ' javascript frameworks like react js',\n",
              " 'libraries like jquery api design',\n",
              " 'hybrid mobile application framework ionic ',\n",
              " 'science csjm university  intermediate',\n",
              " 'computer application shiats university ',\n",
              " 'mongodb operating system open solaris',\n",
              " 'auto components manufacturer company website',\n",
              " 'hybrid mobile application developer description',\n",
              " 'stack developer https offroadtrails',\n",
              " 'stack developer https citybytes',\n",
              " 'paytm wallet https virala',\n",
              " 'stack developer https www',\n",
              " 'stack developer https play',\n",
              " 'show  election related videos',\n",
              " ' web server technologies apache',\n",
              " 'frameworks like bootstrap worked',\n",
              " 'news ongoing project project name',\n",
              " 'work experience virala india pvt',\n",
              " 'database technologies like mysql',\n",
              " 'paytm https www',\n",
              " 'featuredprojects https www',\n",
              " ' building user interface',\n",
              " 'web fundamentals like html',\n",
              " 'stack developer payment gateway',\n",
              " 'mongo db server',\n",
              " 'stack developer team size',\n",
              " 'role web designer',\n",
              " 'facebook native ads role',\n",
              " 'framework bootstrap server',\n",
              " 'online handicraft shopping role',\n",
              " 'digital marketing service role',\n",
              " 'election news video app',\n",
              " ' frameworks related',\n",
              " 'small bakery app environment',\n",
              " 'ecommerce web application',\n",
              " 'projects billing system',\n",
              " 'x full front',\n",
              " 'good communication skills',\n",
              " 'ionic framework ',\n",
              " 'play youtube videos',\n",
              " 'react js',\n",
              " 'youtube embedded video',\n",
              " 'cms ionic ',\n",
              " 'rpm inter college',\n",
              " 'lucknow ankit sharma',\n",
              " 'handling multiple projects',\n",
              " 'commerce customer ',\n",
              " 'ankit sharma citizenship',\n",
              " ' contact tel',\n",
              " 'side languages php',\n",
              " 'google ads role',\n",
              " ' worked',\n",
              " 'online medicine purchase',\n",
              " 'stack developer',\n",
              " 'paced challenging environment',\n",
              " 'admin panel environment',\n",
              " 'wordpress website',\n",
              " 'nodejs admin panel',\n",
              " 'indian date',\n",
              " 'css databases mysql',\n",
              " 'backblaze editor sublime',\n",
              " 'developer description',\n",
              " 'ecommerce orders environment',\n",
              " 'php framework',\n",
              " ' technologies',\n",
              " 'ionic ',\n",
              " ' deployment',\n",
              " 'web designing',\n",
              " 'rest api',\n",
              " 'aabsynthe design',\n",
              " 'aws',\n",
              " 'virala environment',\n",
              " 'traffic problem',\n",
              " 'sewer problem',\n",
              " 'road problem',\n",
              " 'online purchase',\n",
              " 'team environment',\n",
              " 'june ',\n",
              " 'july ',\n",
              " 'end framework',\n",
              " 'project aims',\n",
              " 'server setup',\n",
              " 'tours role',\n",
              " 'individual bakery',\n",
              " 'digital ocean',\n",
              " 'wordpress',\n",
              " 'app aims',\n",
              " 'work independently',\n",
              " 'side language',\n",
              " 'process billing',\n",
              " 'kanpur',\n",
              " 'cakephp ',\n",
              " 'org environment',\n",
              " 'individual environment',\n",
              " 'en environment',\n",
              " 'various front',\n",
              " 'javascript',\n",
              " 'magazine app',\n",
              " 'com environment',\n",
              " 'work well',\n",
              " 'wildlife adventures',\n",
              " 'watches ',\n",
              " 'visual studio',\n",
              " 'uploading issues',\n",
              " 'till date',\n",
              " 'systems quickly',\n",
              " 'shyam nagar',\n",
              " 'sales record',\n",
              " 'post cod',\n",
              " 'mysql',\n",
              " 'mentioned particulars',\n",
              " 'mentioned information',\n",
              " 'major city',\n",
              " 'major cities',\n",
              " 'maintain product',\n",
              " 'lightsail instance',\n",
              " 'learn processes',\n",
              " 'kda colony',\n",
              " 'july ',\n",
              " 'improve city',\n",
              " 'hereby declare',\n",
              " 'experience',\n",
              " 'data visualizations',\n",
              " 'daheli sujanpur',\n",
              " 'custom jewellery',\n",
              " 'currently working',\n",
              " 'c om',\n",
              " ' email',\n",
              " ' masters',\n",
              " ' bachelor',\n",
              " ' ews',\n",
              " 'frameworks',\n",
              " 'com summary',\n",
              " 'cakephp ',\n",
              " 'jquery',\n",
              " 'contains meme',\n",
              " 'back development',\n",
              " 'news',\n",
              " 'bootstrap',\n",
              " 'virala',\n",
              " 'project',\n",
              " 'php',\n",
              " 'server',\n",
              " 'role',\n",
              " 'videos',\n",
              " 'mongodb',\n",
              " '',\n",
              " 'app',\n",
              " 'x',\n",
              " 'work',\n",
              " 'full',\n",
              " 'environment',\n",
              " 'front',\n",
              " 'orders',\n",
              " 'nodejs',\n",
              " 'google',\n",
              " 'date',\n",
              " 'css',\n",
              " 'backblaze',\n",
              " 'com',\n",
              " 'cakephp',\n",
              " 'well',\n",
              " 'meme',\n",
              " 'magazine',\n",
              " 'end',\n",
              " 'development',\n",
              " ' ',\n",
              " 'years',\n",
              " 'ubuntu',\n",
              " 'time',\n",
              " 'swagger',\n",
              " 'store',\n",
              " 'sonacomstar',\n",
              " 'solutions',\n",
              " 'senior',\n",
              " 'responsibility',\n",
              " 'reactjs',\n",
              " 'pt',\n",
              " 'professional',\n",
              " 'place',\n",
              " 'payumoney',\n",
              " 'navneeti',\n",
              " 'ltd',\n",
              " 'linux',\n",
              " 'knowledge',\n",
              " 'kalaahut',\n",
              " 'json',\n",
              " 'inventory',\n",
              " 'images',\n",
              " 'id',\n",
              " 'html',\n",
              " 'hl',\n",
              " 'gmail',\n",
              " 'fast',\n",
              " 'express',\n",
              " 'excelled',\n",
              " 'ec',\n",
              " 'e',\n",
              " 'direction',\n",
              " 'details',\n",
              " 'declaration',\n",
              " 'css',\n",
              " 'correctness',\n",
              " 'correct',\n",
              " 'codeignitor',\n",
              " 'citybytesapp',\n",
              " 'chemistsmart',\n",
              " 'cakephp',\n",
              " 'board',\n",
              " 'blog',\n",
              " 'birth',\n",
              " 'bhojpurihindivideos',\n",
              " 'bear',\n",
              " 'architects',\n",
              " 'april',\n",
              " 'apps',\n",
              " 'ankits',\n",
              " 'angular',\n",
              " 'angular',\n",
              " 'ajax',\n",
              " 'able',\n",
              " 'ability',\n",
              " '',\n",
              " '',\n",
              " '',\n",
              " '',\n",
              " '',\n",
              " '',\n",
              " '',\n",
              " '',\n",
              " '',\n",
              " '',\n",
              " '']"
            ]
          },
          "metadata": {},
          "execution_count": 56
        }
      ]
    },
    {
      "cell_type": "code",
      "metadata": {
        "id": "6KL0CBlwWC77"
      },
      "source": [
        "max_length = 25\n",
        "min_length = 3\n",
        "\n",
        "filtered_Phrase= []\n",
        "\n",
        "i = 0\n",
        "for q in clean_phrase:\n",
        "    if len(q.split()) >= min_length and len(q.split()) <= max_length:\n",
        "        filtered_Phrase.append(q)\n",
        "    i += 1\n"
      ],
      "execution_count": 57,
      "outputs": []
    },
    {
      "cell_type": "code",
      "metadata": {
        "colab": {
          "base_uri": "https://localhost:8080/"
        },
        "id": "xXnDyXFpZBxM",
        "outputId": "9936f9eb-07f8-4cb4-c3b0-2b9fcf468463"
      },
      "source": [
        "filtered_Phrase"
      ],
      "execution_count": 58,
      "outputs": [
        {
          "output_type": "execute_result",
          "data": {
            "text/plain": [
              "['wordpress version control system git tools netbeans cloud based services aws',\n",
              " 'kanpur functional skill set problem solving capability peered',\n",
              " 'mysql database key skills web technologies php',\n",
              " ' node js education ',\n",
              " 'cloud based storage aws s',\n",
              " 'notepad javascript framework react js',\n",
              " 'designed overall user experience worked',\n",
              " ' javascript frameworks like react js',\n",
              " 'libraries like jquery api design',\n",
              " 'hybrid mobile application framework ionic ',\n",
              " 'science csjm university  intermediate',\n",
              " 'computer application shiats university ',\n",
              " 'mongodb operating system open solaris',\n",
              " 'auto components manufacturer company website',\n",
              " 'hybrid mobile application developer description',\n",
              " 'stack developer https offroadtrails',\n",
              " 'stack developer https citybytes',\n",
              " 'paytm wallet https virala',\n",
              " 'stack developer https www',\n",
              " 'stack developer https play',\n",
              " 'show  election related videos',\n",
              " ' web server technologies apache',\n",
              " 'frameworks like bootstrap worked',\n",
              " 'news ongoing project project name',\n",
              " 'work experience virala india pvt',\n",
              " 'database technologies like mysql',\n",
              " 'paytm https www',\n",
              " 'featuredprojects https www',\n",
              " ' building user interface',\n",
              " 'web fundamentals like html',\n",
              " 'stack developer payment gateway',\n",
              " 'mongo db server',\n",
              " 'stack developer team size',\n",
              " 'role web designer',\n",
              " 'facebook native ads role',\n",
              " 'framework bootstrap server',\n",
              " 'online handicraft shopping role',\n",
              " 'digital marketing service role',\n",
              " 'election news video app',\n",
              " 'small bakery app environment',\n",
              " 'ecommerce web application',\n",
              " 'projects billing system',\n",
              " 'x full front',\n",
              " 'good communication skills',\n",
              " 'play youtube videos',\n",
              " 'youtube embedded video',\n",
              " 'rpm inter college',\n",
              " 'lucknow ankit sharma',\n",
              " 'handling multiple projects',\n",
              " 'ankit sharma citizenship',\n",
              " 'side languages php',\n",
              " 'google ads role',\n",
              " 'online medicine purchase',\n",
              " 'paced challenging environment',\n",
              " 'admin panel environment',\n",
              " 'nodejs admin panel',\n",
              " 'css databases mysql',\n",
              " 'backblaze editor sublime',\n",
              " 'ecommerce orders environment']"
            ]
          },
          "metadata": {},
          "execution_count": 58
        }
      ]
    }
  ]
}