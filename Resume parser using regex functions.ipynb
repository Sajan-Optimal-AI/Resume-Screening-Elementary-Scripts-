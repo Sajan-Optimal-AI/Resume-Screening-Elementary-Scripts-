{
  "nbformat": 4,
  "nbformat_minor": 0,
  "metadata": {
    "colab": {
      "name": "Script for experience and project.ipynb",
      "provenance": [],
      "collapsed_sections": []
    },
    "kernelspec": {
      "name": "python3",
      "display_name": "Python 3"
    },
    "language_info": {
      "name": "python"
    }
  },
  "cells": [
    {
      "cell_type": "code",
      "metadata": {
        "colab": {
          "base_uri": "https://localhost:8080/"
        },
        "id": "bP-ljUMQmYji",
        "outputId": "c90a1113-5fa7-4215-f59c-d1a1d05d284c"
      },
      "source": [
        "!pip install pdfminer"
      ],
      "execution_count": 76,
      "outputs": [
        {
          "output_type": "stream",
          "text": [
            "Requirement already satisfied: pdfminer in /usr/local/lib/python3.7/dist-packages (20191125)\n",
            "Requirement already satisfied: pycryptodome in /usr/local/lib/python3.7/dist-packages (from pdfminer) (3.10.1)\n"
          ],
          "name": "stdout"
        }
      ]
    },
    {
      "cell_type": "code",
      "metadata": {
        "colab": {
          "base_uri": "https://localhost:8080/"
        },
        "id": "94EnWaqKoPDR",
        "outputId": "106eee2e-a834-46b3-f850-e9aaa9336b7e"
      },
      "source": [
        "pip install docx2txt"
      ],
      "execution_count": 77,
      "outputs": [
        {
          "output_type": "stream",
          "text": [
            "Requirement already satisfied: docx2txt in /usr/local/lib/python3.7/dist-packages (0.8)\n"
          ],
          "name": "stdout"
        }
      ]
    },
    {
      "cell_type": "code",
      "metadata": {
        "id": "nzyG_XOznP9A"
      },
      "source": [
        "import pdfminer\n",
        "from io import StringIO\n",
        "from pdfminer.pdfinterp import PDFResourceManager, PDFPageInterpreter\n",
        "from pdfminer.converter import TextConverter\n",
        "from pdfminer.layout import LAParams\n",
        "from pdfminer.pdfpage import PDFPage"
      ],
      "execution_count": 78,
      "outputs": []
    },
    {
      "cell_type": "code",
      "metadata": {
        "id": "nCTb0EpSnSrX"
      },
      "source": [
        "import docx2txt\n",
        "import os\n",
        "import regex as re"
      ],
      "execution_count": 79,
      "outputs": []
    },
    {
      "cell_type": "code",
      "metadata": {
        "colab": {
          "base_uri": "https://localhost:8080/"
        },
        "id": "nfJtvW8ooZQ4",
        "outputId": "877f33cb-3cc3-4263-b758-6a1ab8fcf516"
      },
      "source": [
        "rootdir = '/content/drive/MyDrive/Resumes'\n",
        "files = os.listdir(rootdir)\n",
        "file_names = []\n",
        "for file in os.listdir(rootdir):\n",
        "    file_names.append(os.path.join('/content/drive/MyDrive/Resumes', file))\n",
        "file_names"
      ],
      "execution_count": 111,
      "outputs": [
        {
          "output_type": "execute_result",
          "data": {
            "text/plain": [
              "['/content/drive/MyDrive/Resumes/Sajan One Page.pdf',\n",
              " '/content/drive/MyDrive/Resumes/PON SUDHIR SAJAN S.S. Resume.pdf',\n",
              " '/content/drive/MyDrive/Resumes/PS_sajan_resume.pdf',\n",
              " '/content/drive/MyDrive/Resumes/Samuel - Resume (1).pdf',\n",
              " '/content/drive/MyDrive/Resumes/Sajan New Two Page.doc']"
            ]
          },
          "metadata": {},
          "execution_count": 111
        }
      ]
    },
    {
      "cell_type": "code",
      "metadata": {
        "id": "I4Z7wD4Sokg4"
      },
      "source": [
        "def open_pdf_file(file_name):\n",
        "    output = StringIO()\n",
        "    manager = PDFResourceManager() \n",
        "    converter = TextConverter(manager, output, laparams=LAParams())\n",
        "    interpreter = PDFPageInterpreter(manager, converter)\n",
        "\n",
        "    pagenums = set()\n",
        "    infile = open(file_name, 'rb')\n",
        "    for page in PDFPage.get_pages(infile, pagenums):\n",
        "        interpreter.process_page(page)\n",
        "    infile.close()\n",
        "    converter.close()\n",
        "    text = output.getvalue()\n",
        "    output.close()\n",
        "\n",
        "    result = []\n",
        "\n",
        "    for line in text.split('\\n'):\n",
        "        line2 = line.strip()\n",
        "        if line2 != '':\n",
        "            result.append(line2)\n",
        "    return (result)"
      ],
      "execution_count": 112,
      "outputs": []
    },
    {
      "cell_type": "code",
      "metadata": {
        "id": "plbUz3GSpMQw"
      },
      "source": [
        "\n",
        "def open_docx_file(file_name):\n",
        "    temp = docx2txt.process(file_names[0])\n",
        "    text = [line.replace('\\t', ' ') for line in temp.split('\\n') if line]\n",
        "    text = [t for t in text if len(t) > 1]\n",
        "    return (text)"
      ],
      "execution_count": 113,
      "outputs": []
    },
    {
      "cell_type": "code",
      "metadata": {
        "id": "3fBsdj4_z6Ir"
      },
      "source": [
        "\n",
        "def remove_punctuations(line):\n",
        "    return re.sub(r'(\\.|\\,)', '', line)\n",
        "\n",
        "def preprocess_document(document):\n",
        "    for index, line in enumerate(document):\n",
        "        line = line.lower()\n",
        "        line = remove_punctuations(line)\n",
        "        \n",
        "        line = line.split(' ')\n",
        "        while '' in line:\n",
        "            line.remove('')\n",
        "            \n",
        "        while ' '  in line:\n",
        "            line.remove(' ')\n",
        "            \n",
        "            \n",
        "        document[index] = ' '.join(line)\n",
        "    return (document)"
      ],
      "execution_count": 114,
      "outputs": []
    },
    {
      "cell_type": "code",
      "metadata": {
        "id": "U_GsIFUs0Kyj"
      },
      "source": [
        "def get_experience(document):\n",
        "    pattern1 = re.compile(r'(jan(uary)?|feb(ruary)?|mar(ch)?|apr(il)?|may|jun(e)?|jul(y)?|aug(ust)?|sep(tember)?|oct(ober)?|nov(ember)?|dec(ember)?)(\\s|\\S)(\\d{2,4}).*(jan(uary)?|feb(ruary)?|mar(ch)?|apr(il)?|may|jun(e)?|jul(y)?|aug(ust)?|sep(tember)?|oct(ober)?|nov(ember)?|dec(ember)?)(\\s|\\S)(\\d{2,4})')\n",
        "    pattern2 = re.compile(r'(\\d{2}(.|..)\\d{4}).{1,4}(\\d{2}(.|..)\\d{4})')\n",
        "    pattern3 = re.compile(r'(\\d{2}(.|..)\\d{4}).{1,4}(present)')\n",
        "    pattern4 = re.compile(r'(jan(uary)?|feb(ruary)?|mar(ch)?|apr(il)?|may|jun(e)?|jul(y)?|aug(ust)?|sep(tember)?|oct(ober)?|nov(ember)?|dec(ember)?)(\\s|\\S)(\\d{2,4}).*(present)')\n",
        "    patterns = [pattern1, pattern2, pattern3, pattern4]\n",
        "    experience = []\n",
        "    for index, line in enumerate(document):\n",
        "        for pattern in patterns:\n",
        "            exp = pattern.findall(line)\n",
        "            if len(exp) > 0:\n",
        "                experience.append(document[index:index+4])\n",
        "                \n",
        "    return (experience)"
      ],
      "execution_count": 115,
      "outputs": []
    },
    {
      "cell_type": "code",
      "metadata": {
        "id": "pTXtC9sB7ua2"
      },
      "source": [
        "def get_project(document):\n",
        "  pattern1 = re.compile(r'(project(summary)?|project(management)?|duration|start(date)?|end(date)?|about(project)?|tool|plan|executive(summary)?|project(overview)?|project(management)?|project(outline)?|project(objective)?|project(information)?|management(teams)?|budget|timeline|schedule|milestone|deliverables|conclusion|project(proposal)?|research(documents)?|project(roadmap)?)(\\s|\\S)(\\d{2,4}).*(project(summary)?|project(management)?|duration|start(date)?|end(date)?|about(project)?|tool|plan|executive(summary)?|project(overview)?|project(management)?|project(outline)?|project(objective)?|project(information)?|management(teams)?|budget|timeline|schedule|milestone|deliverables|conclusion|project(proposal)?|research(documents)?|project(roadmap)?)(\\s|\\S)(\\d{2,4})')\n",
        "  pattern2 = re.compile(r'(\\d{2}(.|..)\\d{4}).{1,4}(\\d{2}(.|..)\\d{4})')\n",
        "  pattern3 = re.compile(r'(\\d{2}(.|..)\\d{4}).{1,4}(present)')\n",
        "  pattern4 = re.compile(r'(jan(uary)?|feb(ruary)?|mar(ch)?|apr(il)?|may|jun(e)?|jul(y)?|aug(ust)?|sep(tember)?|oct(ober)?|nov(ember)?|dec(ember)?)(\\s|\\S)(\\d{2,4}).*(present)')\n",
        "  patterns = [pattern1, pattern2, pattern3, pattern4]\n",
        "  project = []\n",
        "  for index, line in enumerate(document):\n",
        "    for pattern in patterns:\n",
        "      prg = pattern.findall(line)\n",
        "      if len(prg) > 0:\n",
        "        project.append(document[index:index+4])\n",
        "                \n",
        "  return (project)\n"
      ],
      "execution_count": 145,
      "outputs": []
    },
    {
      "cell_type": "code",
      "metadata": {
        "id": "esc9qwYp0PeD"
      },
      "source": [
        "\n",
        "experience_1 = []\n",
        "experience_2 = []\n",
        "project_1=[]\n",
        "project_2=[]\n",
        "\n",
        "for file_name in file_names:\n",
        "    if file_name.endswith('.pdf'):\n",
        "        document = open_pdf_file(file_name)\n",
        "    elif file_name.endswith('.docx'):\n",
        "        document = open_docx_file(file_name)\n",
        "    \n",
        "    \n",
        "    document = preprocess_document(document)\n",
        "    \n",
        "    experience = get_experience(document)\n",
        "\n",
        "    if len(experience) > 1:\n",
        "        experience_1.append(experience[0])\n",
        "        experience_2.append(experience[1])\n",
        "    elif len(experience) == 1:\n",
        "        experience_1.append(experience[0])\n",
        "        experience_2.append('')\n",
        "    elif len(experience) == 0:\n",
        "        experience_1.append('')\n",
        "        experience_2.append('')\n",
        "\n",
        "    project = get_project(document)\n",
        "\n",
        "    if len(project) > 1:\n",
        "        project_1.append(project[0])\n",
        "        project_2.append(project[1])\n",
        "    elif len(project) == 1:\n",
        "        project_1.append(project[0])\n",
        "        project_2.append('')\n",
        "    elif len(project) == 0:\n",
        "        project_1.append('')\n",
        "        project_2.append('')\n"
      ],
      "execution_count": 146,
      "outputs": []
    },
    {
      "cell_type": "code",
      "metadata": {
        "id": "ER_ZyA1N2s71"
      },
      "source": [
        "import pandas as pd\n",
        "df = pd.DataFrame({'experience 1':experience_1, 'experiece 2':experience_2, 'project 1':project_1, 'project 2':project_2})"
      ],
      "execution_count": 147,
      "outputs": []
    },
    {
      "cell_type": "code",
      "metadata": {
        "colab": {
          "base_uri": "https://localhost:8080/",
          "height": 204
        },
        "id": "6_dm19r73ZrG",
        "outputId": "6838d18d-4f9c-4be0-a71a-c53dd0c29991"
      },
      "source": [
        "df"
      ],
      "execution_count": 148,
      "outputs": [
        {
          "output_type": "execute_result",
          "data": {
            "text/html": [
              "<div>\n",
              "<style scoped>\n",
              "    .dataframe tbody tr th:only-of-type {\n",
              "        vertical-align: middle;\n",
              "    }\n",
              "\n",
              "    .dataframe tbody tr th {\n",
              "        vertical-align: top;\n",
              "    }\n",
              "\n",
              "    .dataframe thead th {\n",
              "        text-align: right;\n",
              "    }\n",
              "</style>\n",
              "<table border=\"1\" class=\"dataframe\">\n",
              "  <thead>\n",
              "    <tr style=\"text-align: right;\">\n",
              "      <th></th>\n",
              "      <th>experience 1</th>\n",
              "      <th>experiece 2</th>\n",
              "      <th>project 1</th>\n",
              "      <th>project 2</th>\n",
              "    </tr>\n",
              "  </thead>\n",
              "  <tbody>\n",
              "    <tr>\n",
              "      <th>0</th>\n",
              "      <td>[noorul islam centre for higher education / au...</td>\n",
              "      <td></td>\n",
              "      <td>[noorul islam centre for higher education / au...</td>\n",
              "      <td></td>\n",
              "    </tr>\n",
              "    <tr>\n",
              "      <th>1</th>\n",
              "      <td>[aug 2014 to present, 1 imparting, technical a...</td>\n",
              "      <td>[july 2019 to present, 1 using deep learning –...</td>\n",
              "      <td>[aug 2014 to present, 1 imparting, technical a...</td>\n",
              "      <td>[july 2019 to present, 1 using deep learning –...</td>\n",
              "    </tr>\n",
              "    <tr>\n",
              "      <th>2</th>\n",
              "      <td>[(cid:17) aug2014–present, • impartingtechnica...</td>\n",
              "      <td>[(cid:17) jan2019–present, • guidingandimparti...</td>\n",
              "      <td>[(cid:17) aug2014–present, • impartingtechnica...</td>\n",
              "      <td>[(cid:17) jan2019–present, • guidingandimparti...</td>\n",
              "    </tr>\n",
              "    <tr>\n",
              "      <th>3</th>\n",
              "      <td>[(cid:17) july2010–april2012, be electronicsan...</td>\n",
              "      <td>[(cid:17) july2004–april2008, skills, python, ...</td>\n",
              "      <td>[1349031813429639, professional, reference, ms...</td>\n",
              "      <td></td>\n",
              "    </tr>\n",
              "    <tr>\n",
              "      <th>4</th>\n",
              "      <td>[(cid:17) july2010–april2012, be electronicsan...</td>\n",
              "      <td>[(cid:17) july2004–april2008, skills, python, ...</td>\n",
              "      <td>[1349031813429639, professional, reference, ms...</td>\n",
              "      <td></td>\n",
              "    </tr>\n",
              "  </tbody>\n",
              "</table>\n",
              "</div>"
            ],
            "text/plain": [
              "                                        experience 1  ...                                          project 2\n",
              "0  [noorul islam centre for higher education / au...  ...                                                   \n",
              "1  [aug 2014 to present, 1 imparting, technical a...  ...  [july 2019 to present, 1 using deep learning –...\n",
              "2  [(cid:17) aug2014–present, • impartingtechnica...  ...  [(cid:17) jan2019–present, • guidingandimparti...\n",
              "3  [(cid:17) july2010–april2012, be electronicsan...  ...                                                   \n",
              "4  [(cid:17) july2010–april2012, be electronicsan...  ...                                                   \n",
              "\n",
              "[5 rows x 4 columns]"
            ]
          },
          "metadata": {},
          "execution_count": 148
        }
      ]
    },
    {
      "cell_type": "code",
      "metadata": {
        "colab": {
          "base_uri": "https://localhost:8080/"
        },
        "id": "mf2cIEnOPzG1",
        "outputId": "99adb194-66ee-4575-be66-b7daf25e26c7"
      },
      "source": [
        "df['experiece 2'][1]"
      ],
      "execution_count": 110,
      "outputs": [
        {
          "output_type": "execute_result",
          "data": {
            "text/plain": [
              "['july 2019 to present',\n",
              " '1 using deep learning – natural language processing statistical',\n",
              " 'modeling techniques to develop and evaluate algorithms to improve',\n",
              " 'performance quality data management and accuracy']"
            ]
          },
          "metadata": {},
          "execution_count": 110
        }
      ]
    }
  ]
}